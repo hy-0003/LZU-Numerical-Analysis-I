{
 "cells": [
  {
   "cell_type": "code",
   "execution_count": 11,
   "id": "70a8f88c",
   "metadata": {},
   "outputs": [
    {
     "name": "stdout",
     "output_type": "stream",
     "text": [
      "[0.2047619047619048, 0.5904761904761904, -0.476190476190476, 1.2857142857142856]\n"
     ]
    }
   ],
   "source": [
    "#  追赶法\n",
    "import numpy as np\n",
    "\n",
    "def zg(A,b):\n",
    "    n = len(A)\n",
    "    e = []\n",
    "    d = []\n",
    "    f = []\n",
    "    l = []\n",
    "    for i in range(n-1):\n",
    "        e.append(A[i][i])\n",
    "        d.append(A[i+1][i])\n",
    "        f.append(A[i][i+1])\n",
    "    e.append(A[n-1][n-1])\n",
    "\n",
    "    for i in range(n-1):\n",
    "        l.append(d[i]/(e[i]))\n",
    "        e[i+1] = e[i+1] - l[i]*f[i]\n",
    "\n",
    "    for i in range(1,n):\n",
    "        b[i] = b[i] - l[i-1]*b[i-1]\n",
    "    \n",
    "    x = [0 for _ in range(n)]\n",
    "    x[-1] = b[-1]/e[-1]\n",
    "    for i in range(n-2,-1,-1):\n",
    "        x[i] = (b[i]-f[i]*x[i+1])/e[i]\n",
    "\n",
    "    return x\n",
    "\n",
    "\n",
    "\n",
    "A = np.array([[2,1,0,0],[1,3,1,0],[0,1,1,1],[0,0,2,1]])\n",
    "b = np.array([1,2,2,0])\n",
    "x = zg(A,b)\n",
    "print(x)"
   ]
  },
  {
   "cell_type": "code",
   "execution_count": 12,
   "id": "09839c68",
   "metadata": {},
   "outputs": [
    {
     "name": "stdout",
     "output_type": "stream",
     "text": [
      "[-3.  3.  1.]\n",
      "[ 1.  0. -1.]\n"
     ]
    }
   ],
   "source": [
    "# Jacobi and G-S\n",
    "import numpy as np\n",
    "\n",
    "\n",
    "def Jacobi(A,b,n,epsilon):\n",
    "    l = len(A)\n",
    "    x_ori = np.zeros(l)\n",
    "    def diedai(x,A,b,l):\n",
    "        x_new = np.copy(x)\n",
    "        for i in range(l):\n",
    "            sum0 = 0\n",
    "            for j in range(l):\n",
    "                if j != i:\n",
    "                    sum0 = sum0 + A[i][j]*x[j]\n",
    "            x_new[i] = (b[i] - sum0)/A[i][i]\n",
    "        return x_new\n",
    "    \n",
    "    i = 0\n",
    "    error = float('inf')\n",
    "    while i < n and error>= epsilon:\n",
    "        x = diedai(x_ori, A, b, l)\n",
    "        error = np.linalg.norm(x - x_ori, 2)\n",
    "        x_ori = x\n",
    "        i += 1\n",
    "\n",
    "    return x_ori\n",
    "\n",
    "\n",
    "def G_S(A,b,n,epsilon):\n",
    "    l = len(A)\n",
    "    x_ori = np.zeros(l)\n",
    "    def diedai(x,A,b,l):\n",
    "        for i in range(l):\n",
    "            sum0 = 0\n",
    "            for j in range(l):\n",
    "                if j != i:\n",
    "                    sum0 = sum0 + A[i][j]*x[j]\n",
    "            x[i] = (b[i] - sum0)/A[i][i]\n",
    "        return x\n",
    "    \n",
    "    i = 0\n",
    "    error = float('inf')\n",
    "    while i < n and error>= epsilon:\n",
    "        x_prev = x_ori.copy()\n",
    "        x = diedai(x_prev, A, b, l)\n",
    "        error = np.linalg.norm(x - x_prev, 2)\n",
    "        x_ori = x\n",
    "        i += 1\n",
    "    \n",
    "    return x_ori\n",
    "\n",
    "\n",
    "A = np.array([[1,2,-2],[1,1,1],[2,2,1]])\n",
    "b = np.array([1,1,1])\n",
    "\n",
    "x_j = Jacobi(A,b,10000,0.00001)\n",
    "x_G = G_S(A,b,10000,0.00001)\n",
    "\n",
    "\n",
    "\n",
    "print(x_j)\n",
    "print(x_G) "
   ]
  }
 ],
 "metadata": {
  "kernelspec": {
   "display_name": "pytorch-gpu",
   "language": "python",
   "name": "python3"
  },
  "language_info": {
   "codemirror_mode": {
    "name": "ipython",
    "version": 3
   },
   "file_extension": ".py",
   "mimetype": "text/x-python",
   "name": "python",
   "nbconvert_exporter": "python",
   "pygments_lexer": "ipython3",
   "version": "3.11.11"
  }
 },
 "nbformat": 4,
 "nbformat_minor": 5
}
